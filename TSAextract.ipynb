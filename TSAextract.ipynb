{
 "cells": [
  {
   "cell_type": "code",
   "execution_count": null,
   "id": "4bfea059-686c-4691-a4bf-7bc6fadffa4b",
   "metadata": {},
   "outputs": [],
   "source": [
    "import csv\n",
    "\n",
    "# Define the file path\n",
    "file_path = r\"/Users/yourname/Documents/project/data.csv\"\n",
    "\n",
    "# Open the CSV file in read mode\n",
    "with open(file_path, \"r\") as csvfile:\n",
    "    # Create a CSV reader object\n",
    "    reader = csv.reader(csvfile)\n",
    "\n",
    "    # Skip the header row (optional)\n",
    "    _ = next(reader)\n",
    "\n",
    "    # Initialize an empty list to store extracted values\n",
    "    extracted_values = []\n",
    "\n",
    "    # Loop through each row\n",
    "    for row in reader:\n",
    "        # Check if the second column value is equal to x\n",
    "        if row[1] == \"x\":\n",
    "            # Extract the value from the yth column\n",
    "            extracted_values.append(row[y])\n",
    "\n",
    "# Print the extracted values (if any)\n",
    "if extracted_values:\n",
    "    print(f\"Extracted values from the yth column:\")\n",
    "    for value in extracted_values:\n",
    "        print(value)\n",
    "else:\n",
    "    print(\"No values found in the yth column for rows with x in the 2nd column.\")"
   ]
  }
 ],
 "metadata": {
  "kernelspec": {
   "display_name": "Python 3 (ipykernel)",
   "language": "python",
   "name": "python3"
  },
  "language_info": {
   "codemirror_mode": {
    "name": "ipython",
    "version": 3
   },
   "file_extension": ".py",
   "mimetype": "text/x-python",
   "name": "python",
   "nbconvert_exporter": "python",
   "pygments_lexer": "ipython3",
   "version": "3.12.7"
  }
 },
 "nbformat": 4,
 "nbformat_minor": 5
}
